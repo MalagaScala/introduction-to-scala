{
 "cells": [
  {
   "cell_type": "markdown",
   "metadata": {},
   "source": [
    "Málaga Scala Developers \n",
    "Introduction to Scala"
   ]
  },
  {
   "cell_type": "markdown",
   "metadata": {},
   "source": [
    "¿How to find us?"
   ]
  },
  {
   "cell_type": "code",
   "execution_count": 7,
   "metadata": {},
   "outputs": [
    {
     "data": {
      "text/plain": [
       "defined \u001b[32mtrait\u001b[39m \u001b[36mMalagaScalaDevelopersSocialMedia\u001b[39m\n",
       "defined \u001b[32mtrait\u001b[39m \u001b[36mMalagaScalaDevelopersPublicResources\u001b[39m\n",
       "defined \u001b[32mobject\u001b[39m \u001b[36mTelegram\u001b[39m\n",
       "defined \u001b[32mobject\u001b[39m \u001b[36mMeetup\u001b[39m\n",
       "defined \u001b[32mobject\u001b[39m \u001b[36mTwitter\u001b[39m\n",
       "defined \u001b[32mobject\u001b[39m \u001b[36mGithub\u001b[39m\n",
       "\u001b[36myouChoice\u001b[39m: \u001b[32mwrapper\u001b[39m.\u001b[32mwrapper\u001b[39m.\u001b[32mMalagaScalaDevelopersSocialMedia\u001b[39m = Telegram\n",
       "\u001b[36mres6_7\u001b[39m: \u001b[32mString\u001b[39m = \u001b[32m\"https://t.me/malaga_scala\"\u001b[39m"
      ]
     },
     "execution_count": 7,
     "metadata": {},
     "output_type": "execute_result"
    }
   ],
   "source": [
    "trait MalagaScalaDevelopersSocialMedia\n",
    "\n",
    "case object Telegram extends MalagaScalaDevelopersSocialMedia\n",
    "case object Meetup   extends MalagaScalaDevelopersSocialMedia \n",
    "case object Twitter  extends MalagaScalaDevelopersSocialMedia\n",
    "case object Github   extends MalagaScalaDevelopersSocialMedia\n",
    "\n",
    "val youChoice : MalagaScalaDevelopersSocialMedia = Telegram\n",
    "youChoice match {\n",
    " case Twitter  => \"https://twitter.com/MalagaScala\" \n",
    " case Telegram => \"https://t.me/malaga_scala\"\n",
    " case Meetup   => \"https://meetup.com/Malaga-Scala\"\n",
    " case Github   => \"https://github.com/MalagaScala\"\n",
    " case _        => \"???\"\n",
    "}\n"
   ]
  },
  {
   "cell_type": "markdown",
   "metadata": {},
   "source": [
    "# Part A Syntax Basics"
   ]
  },
  {
   "cell_type": "markdown",
   "metadata": {},
   "source": [
    "\n",
    "* 0.0 :: val / var / assigments and multiple statemens in a single line with ;\n"
   ]
  },
  {
   "cell_type": "code",
   "execution_count": null,
   "metadata": {},
   "outputs": [],
   "source": [
    "{\n",
    "    // discussion about reassignment \n",
    "    val k = 1\n",
    "    // vs \n",
    "    var i =10\n",
    "    // TODO :: Discussion why we can not do it like that  \n",
    "    //k = 3 ; i =112\n",
    "}"
   ]
  },
  {
   "cell_type": "markdown",
   "metadata": {},
   "source": [
    "* 0.1 :: String interpolation with ${}"
   ]
  },
  {
   "cell_type": "code",
   "execution_count": null,
   "metadata": {},
   "outputs": [],
   "source": [
    "val uno = 1\n",
    "class Uno(val number: Int)\n",
    "println(s\"$uno\")\n",
    "// for class\n",
    "val aOne = new Uno(1)\n",
    "println(s\"${aOne.number}\")"
   ]
  },
  {
   "cell_type": "markdown",
   "metadata": {},
   "source": [
    "* 0.2 :: Any method can be an operator too"
   ]
  },
  {
   "cell_type": "code",
   "execution_count": null,
   "metadata": {},
   "outputs": [],
   "source": [
    "val anArray = Array(\"o\",\"oo\",\"ooo\")\n",
    "// indexOf as a operator syntax\n",
    "anArray `indexOf` \"o\" \n",
    "// <=>\n",
    "anArray.indexOf(\"o\")"
   ]
  },
  {
   "cell_type": "markdown",
   "metadata": {},
   "source": [
    " * 0.3 :: logic operation && (short circuit) vs & \n"
   ]
  },
  {
   "cell_type": "code",
   "execution_count": 1,
   "metadata": {},
   "outputs": [
    {
     "name": "stdout",
     "output_type": "stream",
     "text": [
      "1==2\n",
      "2==2\n",
      "1==2\n"
     ]
    },
    {
     "data": {
      "text/plain": [
       "defined \u001b[32mfunction\u001b[39m \u001b[36mshow\u001b[39m\n",
       "\u001b[36misThere\u001b[39m: \u001b[32mBoolean\u001b[39m = false\n",
       "\u001b[36moverThere\u001b[39m: \u001b[32mBoolean\u001b[39m = false"
      ]
     },
     "execution_count": 1,
     "metadata": {},
     "output_type": "execute_result"
    }
   ],
   "source": [
    "def show(toShow: => String, toEvaluate: => Boolean ) : Boolean = {\n",
    "    println(toShow)\n",
    "    toEvaluate\n",
    "}\n",
    "val isThere   = (show(\"1==2\", 1==2) & show(\"2==2\", 2==2) ) \n",
    "val overThere = (show(\"1==2\", 1==2) && show(\"2==2\", 2==2) ) "
   ]
  },
  {
   "cell_type": "markdown",
   "metadata": {},
   "source": [
    " * 0.4 :: Operator syntax vs method call 1.+(2)"
   ]
  },
  {
   "cell_type": "code",
   "execution_count": null,
   "metadata": {},
   "outputs": [],
   "source": [
    "val resultA = 1.+(2) // explain\n",
    "// <=>\n",
    "val resultB = 1 + 2\n"
   ]
  },
  {
   "cell_type": "markdown",
   "metadata": {},
   "source": [
    "* 0.5 :: Parameterless methods"
   ]
  },
  {
   "cell_type": "code",
   "execution_count": null,
   "metadata": {},
   "outputs": [],
   "source": [
    "def aParameterlessMethodAB  = {}\n",
    "// invocation \n",
    "aParameterlessMethodAB"
   ]
  },
  {
   "cell_type": "markdown",
   "metadata": {},
   "source": [
    "* 0.6 :: Method is NOT a function but ..."
   ]
  },
  {
   "cell_type": "code",
   "execution_count": null,
   "metadata": {
    "scrolled": false
   },
   "outputs": [],
   "source": [
    "type Output = String\n",
    "def myMethod(input: String) : Output = return input // the return keyword is Optional!\n",
    "// transform a method as a functionl literals with the _ (underscore char)\n",
    "val aFunctionLiterally : String => Output = myMethod _"
   ]
  },
  {
   "cell_type": "markdown",
   "metadata": {
    "scrolled": false
   },
   "source": [
    "* 0.7 :: Producedure syntax"
   ]
  },
  {
   "cell_type": "code",
   "execution_count": null,
   "metadata": {},
   "outputs": [],
   "source": [
    "def myProcedure() = {\n",
    "    // the procedure body\n",
    "    println(\"A procedure is ivoking and producing a Side Effects\")\n",
    "}"
   ]
  },
  {
   "cell_type": "markdown",
   "metadata": {},
   "source": [
    "* 0.8 :: if as a expression - not a statemnet"
   ]
  },
  {
   "cell_type": "code",
   "execution_count": null,
   "metadata": {},
   "outputs": [],
   "source": [
    "val p = 4\n",
    "val s = if (10>p) 1 else 0"
   ]
  },
  {
   "cell_type": "markdown",
   "metadata": {},
   "source": [
    "* 0.9 :: while loop \n",
    "Discussion about Imperative style"
   ]
  },
  {
   "cell_type": "code",
   "execution_count": null,
   "metadata": {},
   "outputs": [],
   "source": [
    "var i = 0 \n",
    "val args = Array(\"l\",\"o\",\"m\",\"b\",\"r\",\"e\",\"s\")\n",
    "while( i< args.length){\n",
    "    println(args(i))\n",
    "    i += 1\n",
    "}"
   ]
  },
  {
   "cell_type": "markdown",
   "metadata": {},
   "source": [
    "* 1.o :: Simple FOR expression without yield"
   ]
  },
  {
   "cell_type": "code",
   "execution_count": null,
   "metadata": {},
   "outputs": [],
   "source": [
    "for(i <- 0 to 2) println(s\"${i}\") "
   ]
  },
  {
   "cell_type": "markdown",
   "metadata": {},
   "source": [
    "* 1.1 :: Simple FOR expression with yield (yielding/creating/returning a value)"
   ]
  },
  {
   "cell_type": "code",
   "execution_count": null,
   "metadata": {},
   "outputs": [],
   "source": [
    "val r = for(i <- 10 to 0 by -1) yield i"
   ]
  },
  {
   "cell_type": "markdown",
   "metadata": {},
   "source": [
    "* 1.2 :: FOR expressions with a guard - differents versions"
   ]
  },
  {
   "cell_type": "code",
   "execution_count": null,
   "metadata": {},
   "outputs": [],
   "source": [
    "val r = for(i <- 10 to 0 by -1; if i == 5) yield i"
   ]
  },
  {
   "cell_type": "code",
   "execution_count": null,
   "metadata": {},
   "outputs": [],
   "source": [
    "val r = for(i <- 0 to 10; if i==2) yield i"
   ]
  },
  {
   "cell_type": "code",
   "execution_count": null,
   "metadata": {
    "scrolled": true
   },
   "outputs": [],
   "source": [
    "val r = for(i <- 0 to 3; j<- 1 to 2) yield i + j"
   ]
  },
  {
   "cell_type": "markdown",
   "metadata": {},
   "source": [
    "* 1.3 :: Mach expression"
   ]
  },
  {
   "cell_type": "code",
   "execution_count": null,
   "metadata": {},
   "outputs": [],
   "source": []
  },
  {
   "cell_type": "markdown",
   "metadata": {},
   "source": [
    "* 1.4 :: try-catch-finally (finally clauses is as a way to ensure some side effect happens). Never use it to return a value because this does not work."
   ]
  },
  {
   "cell_type": "code",
   "execution_count": null,
   "metadata": {},
   "outputs": [],
   "source": []
  },
  {
   "cell_type": "markdown",
   "metadata": {},
   "source": [
    "* 1.5 :: Named Arguments and Default parameters values (default arguments)"
   ]
  },
  {
   "cell_type": "code",
   "execution_count": 4,
   "metadata": {},
   "outputs": [
    {
     "data": {
      "text/plain": [
       "defined \u001b[32mfunction\u001b[39m \u001b[36mgoToBici\u001b[39m\n",
       "\u001b[36mgoNow\u001b[39m: \u001b[32mString\u001b[39m = \u001b[32m\"${name} + ${size}\"\u001b[39m"
      ]
     },
     "execution_count": 4,
     "metadata": {},
     "output_type": "execute_result"
    }
   ],
   "source": [
    "def goToBici(name : String = \"gazelle\", size : Int) : String = \"${name} + ${size}\"\n",
    "\n",
    "val goNow = goToBici(size = 13)"
   ]
  },
  {
   "cell_type": "markdown",
   "metadata": {},
   "source": [
    "* 1.6 :: What String* stands for (*) Repeated parameters"
   ]
  },
  {
   "cell_type": "code",
   "execution_count": 5,
   "metadata": {},
   "outputs": [
    {
     "data": {
      "text/plain": [
       "defined \u001b[32mfunction\u001b[39m \u001b[36mrepeatMePlease\u001b[39m"
      ]
     },
     "execution_count": 5,
     "metadata": {},
     "output_type": "execute_result"
    }
   ],
   "source": [
    "def repeatMePlease(toRepeat : String*) : Unit = toRepeat.foreach(println(_))\n",
    "\n",
    "repeatMePlease()"
   ]
  },
  {
   "cell_type": "markdown",
   "metadata": {},
   "source": [
    "* 1.7 :: Parameters by-value vs Parameters by-names - TODO :: discussion"
   ]
  },
  {
   "cell_type": "code",
   "execution_count": null,
   "metadata": {},
   "outputs": [],
   "source": []
  },
  {
   "cell_type": "markdown",
   "metadata": {},
   "source": [
    "* 1.8 :: Objects (Singletons design pattern)"
   ]
  },
  {
   "cell_type": "code",
   "execution_count": null,
   "metadata": {},
   "outputs": [],
   "source": []
  },
  {
   "cell_type": "markdown",
   "metadata": {},
   "source": [
    "* 1.9 :: Objects (Singletons design pattern)"
   ]
  },
  {
   "cell_type": "code",
   "execution_count": null,
   "metadata": {},
   "outputs": [],
   "source": []
  },
  {
   "cell_type": "markdown",
   "metadata": {},
   "source": [
    "* 2.o :: Simple currying methods introduction\n",
    " The currying can be used to make methods call look more like build-in syntax\n",
    " // executerAfter(after){toExecuteBlock}"
   ]
  },
  {
   "cell_type": "code",
   "execution_count": null,
   "metadata": {},
   "outputs": [],
   "source": []
  },
  {
   "cell_type": "markdown",
   "metadata": {},
   "source": [
    "# Part B Types WIP"
   ]
  },
  {
   "cell_type": "markdown",
   "metadata": {},
   "source": [
    "* 0.0 :: Typles and multivalues declaration syntax a.k.a patterns everywhere"
   ]
  },
  {
   "cell_type": "code",
   "execution_count": null,
   "metadata": {},
   "outputs": [],
   "source": [
    "val aTypleOfInts = (1,2)\n",
    "\n",
    "val (i1,i2) = aTypleOfInts\n",
    "\n",
    "// or \n",
    "aTypleOfInts._1\n",
    "aTypleOfInts._2"
   ]
  },
  {
   "cell_type": "markdown",
   "metadata": {},
   "source": [
    "* 0.1 :: Arrays ( question : why arrays are special in context of generic types and the runtime ?)"
   ]
  },
  {
   "cell_type": "code",
   "execution_count": 26,
   "metadata": {},
   "outputs": [
    {
     "data": {
      "text/plain": [
       "\u001b[36mres25\u001b[39m: \u001b[32mArray\u001b[39m[\u001b[32mString\u001b[39m] = \u001b[33mArray\u001b[39m(\u001b[32m\"ABECA\"\u001b[39m)"
      ]
     },
     "execution_count": 26,
     "metadata": {},
     "output_type": "execute_result"
    }
   ],
   "source": [
    "Array[String](\"ABECA\")"
   ]
  },
  {
   "cell_type": "markdown",
   "metadata": {},
   "source": [
    "* 0.2 :: List ( persisten, singly-linked list)\n",
    " > List are immutable\n",
    " > Have a recursive structure\n",
    " > The list type in Scala is Covariant (the generaic parametertype is on covariant position List[+T]) : {\n",
    " forEach such a type S and T: if S <: T then List[S] <: List[T]\n",
    " An upper type bound S <: T defines that type variable S refers to a subtype of type T}\n",
    " For instance List[String] is a subtype of List[Object]"
   ]
  },
  {
   "cell_type": "code",
   "execution_count": 7,
   "metadata": {},
   "outputs": [
    {
     "data": {
      "text/plain": [
       "\u001b[36mgenerator\u001b[39m: \u001b[32mList\u001b[39m[\u001b[32mInt\u001b[39m] = \u001b[33mList\u001b[39m(\u001b[32m1\u001b[39m, \u001b[32m2\u001b[39m)\n",
       "\u001b[36ma\u001b[39m: \u001b[32mInt\u001b[39m = \u001b[32m1\u001b[39m\n",
       "\u001b[36mb\u001b[39m: \u001b[32mInt\u001b[39m = \u001b[32m2\u001b[39m\n",
       "\u001b[36mfirst\u001b[39m: \u001b[32mInt\u001b[39m = \u001b[32m1\u001b[39m\n",
       "\u001b[36msecond\u001b[39m: \u001b[32mInt\u001b[39m = \u001b[32m2\u001b[39m\n",
       "\u001b[36mrest\u001b[39m: \u001b[32mList\u001b[39m[\u001b[32mInt\u001b[39m] = \u001b[33mList\u001b[39m()"
      ]
     },
     "execution_count": 7,
     "metadata": {},
     "output_type": "execute_result"
    }
   ],
   "source": [
    "// Construction a list with the Cons operator ( :: )\n",
    "val generator = 1 :: 2 :: Nil\n",
    "val List(a,b) = generator\n",
    "val first :: second :: rest = generator\n",
    "\n",
    "// what if ??  \n",
    "//val List(a,b,c) = generator\n",
    "\n",
    "\n"
   ]
  },
  {
   "cell_type": "code",
   "execution_count": 34,
   "metadata": {},
   "outputs": [
    {
     "data": {
      "text/plain": [
       "\u001b[36ml1\u001b[39m: \u001b[32mList\u001b[39m[\u001b[32mInt\u001b[39m] = \u001b[33mList\u001b[39m(\u001b[32m4\u001b[39m, \u001b[32m4\u001b[39m, \u001b[32m4\u001b[39m, \u001b[32m1\u001b[39m)\n",
       "\u001b[36ml2\u001b[39m: \u001b[32mList\u001b[39m[\u001b[32mInt\u001b[39m] = \u001b[33mList\u001b[39m(\u001b[32m1\u001b[39m, \u001b[32m4\u001b[39m, \u001b[32m4\u001b[39m, \u001b[32m4\u001b[39m)\n",
       "\u001b[36mres33_2\u001b[39m: \u001b[32mBoolean\u001b[39m = \u001b[32mtrue\u001b[39m\n",
       "\u001b[36mres33_3\u001b[39m: \u001b[32mBoolean\u001b[39m = \u001b[32mfalse\u001b[39m\n",
       "\u001b[36mtoZip1\u001b[39m: \u001b[32mList\u001b[39m[\u001b[32mInt\u001b[39m] = \u001b[33mList\u001b[39m(\u001b[32m1\u001b[39m, \u001b[32m2\u001b[39m, \u001b[32m3\u001b[39m)\n",
       "\u001b[36mtoZip2\u001b[39m: \u001b[32mList\u001b[39m[\u001b[32mString\u001b[39m] = \u001b[33mList\u001b[39m(\u001b[32m\"a\"\u001b[39m, \u001b[32m\"b\"\u001b[39m)\n",
       "\u001b[36mres33_6\u001b[39m: \u001b[32mList\u001b[39m[(\u001b[32mInt\u001b[39m, \u001b[32mString\u001b[39m)] = \u001b[33mList\u001b[39m((\u001b[32m1\u001b[39m, \u001b[32m\"a\"\u001b[39m), (\u001b[32m2\u001b[39m, \u001b[32m\"b\"\u001b[39m))"
      ]
     },
     "execution_count": 34,
     "metadata": {},
     "output_type": "execute_result"
    }
   ],
   "source": [
    "// create a new list with element appended to the end\n",
    "val l1 = List(4,4,4) :+ 1\n",
    "\n",
    "// create a new list with element appended to the beginning\n",
    "val l2 = 1 +: List(4,4,4)\n",
    "\n",
    "l2.reverse  == l1\n",
    "l2.distinct == l1.distinct\n",
    "\n",
    "// zip me please\n",
    "val toZip1 = List(1,2,3) \n",
    "val toZip2 = List(\"a\",\"b\")\n",
    "// discussion here\n",
    "toZip1.zip(toZip2)\n"
   ]
  },
  {
   "cell_type": "code",
   "execution_count": 12,
   "metadata": {},
   "outputs": [
    {
     "data": {
      "text/plain": [
       "defined \u001b[32mfunction\u001b[39m \u001b[36minsert\u001b[39m\n",
       "\u001b[36mres11_1\u001b[39m: \u001b[32mList\u001b[39m[\u001b[32mInt\u001b[39m] = \u001b[33mList\u001b[39m(\u001b[32m2\u001b[39m, \u001b[32m3\u001b[39m, \u001b[32m4\u001b[39m, \u001b[32m5\u001b[39m)"
      ]
     },
     "execution_count": 12,
     "metadata": {},
     "output_type": "execute_result"
    }
   ],
   "source": [
    "def insert(x: Int, xs: List[Int]) : List[Int] = {\n",
    "    xs match {\n",
    "        case List() => List(x)\n",
    "        case y::ys  => y :: insert(x, ys)\n",
    "    }\n",
    "}\n",
    "insert(5, List(2,3,4))"
   ]
  },
  {
   "cell_type": "code",
   "execution_count": 21,
   "metadata": {},
   "outputs": [
    {
     "data": {
      "text/plain": [
       "\u001b[36mres20_0\u001b[39m: \u001b[32mList\u001b[39m[\u001b[32mList\u001b[39m[\u001b[32mInt\u001b[39m]] = \u001b[33mList\u001b[39m(\u001b[33mList\u001b[39m(\u001b[32m1\u001b[39m, \u001b[32m2\u001b[39m, \u001b[32m3\u001b[39m))\n",
       "\u001b[36mres20_1\u001b[39m: \u001b[32mString\u001b[39m = \u001b[32m\"c | b | f\"\u001b[39m"
      ]
     },
     "execution_count": 21,
     "metadata": {},
     "output_type": "execute_result"
    }
   ],
   "source": [
    "// List concatenation :::\n",
    "// head tail  VS.  init last\n",
    "// xs splitAt n  <==> (xs take n, xs drop n)\n",
    "List(List(List(1,2,3))).flatten\n",
    "List('c','b','f').mkString(\" | \")"
   ]
  },
  {
   "cell_type": "code",
   "execution_count": 25,
   "metadata": {},
   "outputs": [
    {
     "data": {
      "text/plain": [
       "\u001b[36maSimpleListOfInt\u001b[39m: \u001b[32mList\u001b[39m[\u001b[32mInt\u001b[39m] = \u001b[33mList\u001b[39m(\u001b[32m1\u001b[39m, \u001b[32m2\u001b[39m)\n",
       "\u001b[36mres24_1\u001b[39m: \u001b[32mBoolean\u001b[39m = \u001b[32mtrue\u001b[39m"
      ]
     },
     "execution_count": 25,
     "metadata": {},
     "output_type": "execute_result"
    }
   ],
   "source": [
    "// What will be a result of that equation \n",
    "// List() == Nil\n",
    "\n",
    "\n",
    "val aSimpleListOfInt = List(1,2)\n",
    "// what about that ?\n",
    "// aSimpleListOfInt.splitAt(2) == (aSimpleListOfInt take 2, aSimpleListOfInt drop 2)"
   ]
  },
  {
   "cell_type": "markdown",
   "metadata": {},
   "source": [
    "* 0.3 :: Streams\n",
    "> a sequence of values\n",
    "> not all values need be presented in memory a the same time\n"
   ]
  },
  {
   "cell_type": "code",
   "execution_count": 42,
   "metadata": {},
   "outputs": [
    {
     "name": "stdout",
     "output_type": "stream",
     "text": [
      "Stream(0, ?)\n"
     ]
    },
    {
     "data": {
      "text/plain": [
       "\u001b[36mres41_0\u001b[39m: \u001b[32mStream\u001b[39m[\u001b[32mInt\u001b[39m] = \u001b[33mStream\u001b[39m(\n",
       "  \u001b[32m1\u001b[39m,\n",
       "  \u001b[32m2\u001b[39m,\n",
       "  \u001b[32m3\u001b[39m\n",
       ")\n",
       "\u001b[36mres41_1\u001b[39m: \u001b[32mStream\u001b[39m[\u001b[32mInt\u001b[39m] = \u001b[33mStream\u001b[39m(\n",
       "  \u001b[32m1\u001b[39m,\n",
       "  \u001b[32m2\u001b[39m,\n",
       "  \u001b[32m3\u001b[39m\n",
       ")\n",
       "\u001b[36mres41_2\u001b[39m: \u001b[32mStream\u001b[39m[\u001b[32mInt\u001b[39m] = \u001b[33mStream\u001b[39m(\n",
       "  \u001b[32m1\u001b[39m,\n",
       "  \u001b[32m2\u001b[39m,\n",
       "  \u001b[32m3\u001b[39m\n",
       ")\n",
       "\u001b[36mres41_3\u001b[39m: \u001b[32mStream\u001b[39m[\u001b[32mInt\u001b[39m] = \u001b[33mStream\u001b[39m(\n",
       "  \u001b[32m1\u001b[39m,\n",
       "  \u001b[32m2\u001b[39m,\n",
       "  \u001b[32m3\u001b[39m,\n",
       "  \u001b[32m4\u001b[39m,\n",
       "  \u001b[32m5\u001b[39m,\n",
       "  \u001b[32m6\u001b[39m,\n",
       "  \u001b[32m7\u001b[39m,\n",
       "  \u001b[32m8\u001b[39m,\n",
       "  \u001b[32m9\u001b[39m\n",
       ")\n",
       "\u001b[36mres41_4\u001b[39m: \u001b[32mStream\u001b[39m[\u001b[32mInt\u001b[39m] = \u001b[33mStream\u001b[39m(\n",
       "  \u001b[32m10\u001b[39m,\n",
       "  \u001b[32m9\u001b[39m,\n",
       "  \u001b[32m8\u001b[39m,\n",
       "  \u001b[32m7\u001b[39m,\n",
       "  \u001b[32m6\u001b[39m,\n",
       "  \u001b[32m5\u001b[39m,\n",
       "  \u001b[32m4\u001b[39m,\n",
       "  \u001b[32m3\u001b[39m,\n",
       "  \u001b[32m2\u001b[39m,\n",
       "  \u001b[32m1\u001b[39m,\n",
       "  \u001b[32m0\u001b[39m\n",
       "\u001b[33m...\u001b[39m\n",
       "\u001b[36mres41_5\u001b[39m: \u001b[32mStream\u001b[39m[\u001b[32mDouble\u001b[39m] = \u001b[33mStream\u001b[39m(\n",
       "  \u001b[32m0.0\u001b[39m,\n",
       "  \u001b[32m0.5\u001b[39m,\n",
       "  \u001b[32m1.0\u001b[39m,\n",
       "  \u001b[32m1.5\u001b[39m,\n",
       "  \u001b[32m2.0\u001b[39m\n",
       ")\n",
       "\u001b[36mk\u001b[39m: \u001b[32mStream\u001b[39m[\u001b[32mInt\u001b[39m] = \u001b[33mStream\u001b[39m(\n",
       "  \u001b[32m0\u001b[39m,\n",
       "  \u001b[32m1\u001b[39m,\n",
       "  \u001b[32m2\u001b[39m,\n",
       "  \u001b[32m3\u001b[39m,\n",
       "  \u001b[32m4\u001b[39m,\n",
       "  \u001b[32m5\u001b[39m,\n",
       "  \u001b[32m6\u001b[39m,\n",
       "  \u001b[32m7\u001b[39m,\n",
       "  \u001b[32m8\u001b[39m,\n",
       "  \u001b[32m9\u001b[39m,\n",
       "  \u001b[32m10\u001b[39m,\n",
       "\u001b[33m...\u001b[39m"
      ]
     },
     "execution_count": 42,
     "metadata": {},
     "output_type": "execute_result"
    }
   ],
   "source": [
    "Array(1,2,3).toStream\n",
    "List(1,2,3).toStream\n",
    "Set(1,2,3).toStream\n",
    "Range(1, 10).toStream\n",
    "\n",
    "(10 to 0 by -1).toStream\n",
    "(0.0 to 2.0 by 0.5).toStream\n",
    "\n",
    "val k = Stream.iterate(0)( x=> x + 1)\n",
    "println(k.take(10))"
   ]
  },
  {
   "cell_type": "markdown",
   "metadata": {},
   "source": [
    "* 0.4 :: Optional data type"
   ]
  },
  {
   "cell_type": "code",
   "execution_count": null,
   "metadata": {},
   "outputs": [],
   "source": []
  },
  {
   "cell_type": "markdown",
   "metadata": {},
   "source": [
    "* 0.5 :: Simple Pattern Matching "
   ]
  },
  {
   "cell_type": "code",
   "execution_count": 11,
   "metadata": {},
   "outputs": [
    {
     "data": {
      "text/plain": [
       "defined \u001b[32mtype\u001b[39m \u001b[36mAction\u001b[39m\n",
       "\u001b[36ms\u001b[39m: () => \u001b[32mUnit\u001b[39m = ammonite.$sess.cmd10$Helper$$Lambda$2216/1138134357@40445cd9"
      ]
     },
     "execution_count": 11,
     "metadata": {},
     "output_type": "execute_result"
    }
   ],
   "source": [
    "type Action = () => Unit\n",
    "\n",
    "val s : Action = ()  => println(\"dupa\")"
   ]
  },
  {
   "cell_type": "markdown",
   "metadata": {},
   "source": [
    "* 0.6 :: Classes"
   ]
  },
  {
   "cell_type": "code",
   "execution_count": 8,
   "metadata": {},
   "outputs": [
    {
     "data": {
      "text/plain": [
       "defined \u001b[32mclass\u001b[39m \u001b[36mTime\u001b[39m\n",
       "\u001b[36maTime\u001b[39m: \u001b[32mTime\u001b[39m = ammonite.$sess.cmd7$Helper$Time@276e3b01\n",
       "\u001b[36mres7_2\u001b[39m: \u001b[32mInt\u001b[39m = \u001b[32m12\u001b[39m"
      ]
     },
     "execution_count": 8,
     "metadata": {},
     "output_type": "execute_result"
    }
   ],
   "source": [
    "class Time {\n",
    "    var h = 12\n",
    "    var m = 0\n",
    "    var s :Int = _ // default value (initializing value)\n",
    "}\n",
    "\n",
    "val aTime = new Time\n",
    "// a getter\n",
    "aTime.h\n",
    "// a setter\n",
    "aTime.h_=(1)\n",
    "// simple filed reassignable \n",
    "aTime.h = 2"
   ]
  },
  {
   "cell_type": "markdown",
   "metadata": {},
   "source": [
    "* 0.7 :: Abstract classes / methods / variables"
   ]
  },
  {
   "cell_type": "code",
   "execution_count": 4,
   "metadata": {},
   "outputs": [
    {
     "data": {
      "text/plain": [
       "defined \u001b[32mclass\u001b[39m \u001b[36mBasicAbstract\u001b[39m"
      ]
     },
     "execution_count": 4,
     "metadata": {},
     "output_type": "execute_result"
    }
   ],
   "source": [
    "abstract class BasicAbstract{\n",
    "    \n",
    "    val s : String\n",
    "    // difference between\n",
    "    var sk : String = _ \n",
    "    \n",
    "    def aMethodA : Int\n",
    "    def aMethodB : Int\n",
    "    \n",
    "}"
   ]
  },
  {
   "cell_type": "markdown",
   "metadata": {},
   "source": [
    "* 0.8 :: Objects (Singletons design pattern)"
   ]
  },
  {
   "cell_type": "code",
   "execution_count": null,
   "metadata": {},
   "outputs": [],
   "source": []
  },
  {
   "cell_type": "markdown",
   "metadata": {},
   "source": [
    "* 0.9 :: Case classes"
   ]
  },
  {
   "cell_type": "code",
   "execution_count": null,
   "metadata": {},
   "outputs": [],
   "source": []
  },
  {
   "cell_type": "markdown",
   "metadata": {},
   "source": [
    "* 1.0 :: Case objects"
   ]
  },
  {
   "cell_type": "code",
   "execution_count": null,
   "metadata": {},
   "outputs": [],
   "source": []
  },
  {
   "cell_type": "markdown",
   "metadata": {},
   "source": [
    "* 1.1 :: Traits"
   ]
  },
  {
   "cell_type": "code",
   "execution_count": null,
   "metadata": {},
   "outputs": [],
   "source": []
  },
  {
   "cell_type": "markdown",
   "metadata": {},
   "source": [
    "* 1.2 :: Keywords Sealed (sealed traits) in context of pattern matching"
   ]
  },
  {
   "cell_type": "code",
   "execution_count": null,
   "metadata": {},
   "outputs": [],
   "source": []
  },
  {
   "cell_type": "markdown",
   "metadata": {},
   "source": [
    "# Part C Functional WIP"
   ]
  },
  {
   "cell_type": "markdown",
   "metadata": {},
   "source": [
    "* 0.0 :: First class function; Lambda as a data "
   ]
  },
  {
   "cell_type": "code",
   "execution_count": null,
   "metadata": {},
   "outputs": [],
   "source": []
  },
  {
   "cell_type": "markdown",
   "metadata": {},
   "source": [
    "* 0.1 :: Anonymous function"
   ]
  },
  {
   "cell_type": "code",
   "execution_count": null,
   "metadata": {},
   "outputs": [],
   "source": []
  },
  {
   "cell_type": "markdown",
   "metadata": {},
   "source": [
    "* 0.2 :: Function composition"
   ]
  },
  {
   "cell_type": "code",
   "execution_count": null,
   "metadata": {},
   "outputs": [],
   "source": []
  },
  {
   "cell_type": "markdown",
   "metadata": {},
   "source": [
    "* 0.3 :: Closures with their free variables and bound variables"
   ]
  },
  {
   "cell_type": "code",
   "execution_count": 1,
   "metadata": {},
   "outputs": [
    {
     "data": {
      "text/plain": [
       "\u001b[36mmore\u001b[39m: \u001b[32mInt\u001b[39m = \u001b[32m1\u001b[39m\n",
       "\u001b[36maddMore\u001b[39m: \u001b[32mInt\u001b[39m => \u001b[32mInt\u001b[39m = $sess.cmd0Wrapper$Helper$$Lambda$2768/1908346880@14899e34"
      ]
     },
     "execution_count": 1,
     "metadata": {},
     "output_type": "execute_result"
    }
   ],
   "source": [
    "val more = 1 \n",
    "val addMore = (x: Int) => x + more // x is a bound value where more is a free value"
   ]
  },
  {
   "cell_type": "markdown",
   "metadata": {},
   "source": [
    "* 0.4 :: First(does not take any function as a argument)  and Higher order Functions"
   ]
  },
  {
   "cell_type": "code",
   "execution_count": null,
   "metadata": {},
   "outputs": [],
   "source": []
  },
  {
   "cell_type": "markdown",
   "metadata": {},
   "source": [
    "* 0.5 :: Fundamental Functions"
   ]
  },
  {
   "cell_type": "code",
   "execution_count": null,
   "metadata": {},
   "outputs": [],
   "source": []
  },
  {
   "cell_type": "markdown",
   "metadata": {},
   "source": [
    "* 0.6 :: Function type ( Java S(ingle)A(abstract)M(ethods) interfaces) "
   ]
  },
  {
   "cell_type": "code",
   "execution_count": null,
   "metadata": {},
   "outputs": [],
   "source": []
  },
  {
   "cell_type": "markdown",
   "metadata": {},
   "source": [
    "* 0.7 :: Local functions"
   ]
  },
  {
   "cell_type": "code",
   "execution_count": null,
   "metadata": {},
   "outputs": [],
   "source": []
  },
  {
   "cell_type": "markdown",
   "metadata": {},
   "source": [
    "* 0.8 :: map() and flatMap() on traits standard collections "
   ]
  },
  {
   "cell_type": "code",
   "execution_count": null,
   "metadata": {},
   "outputs": [],
   "source": []
  },
  {
   "cell_type": "markdown",
   "metadata": {},
   "source": [
    "* 0.9 :: Type Classes introduction"
   ]
  },
  {
   "cell_type": "code",
   "execution_count": null,
   "metadata": {},
   "outputs": [],
   "source": []
  }
 ],
 "metadata": {
  "kernelspec": {
   "display_name": "Scala",
   "language": "scala",
   "name": "scala"
  },
  "language_info": {
   "codemirror_mode": "text/x-scala",
   "file_extension": ".sc",
   "mimetype": "text/x-scala",
   "name": "scala",
   "nbconvert_exporter": "script",
   "version": "2.13.3"
  }
 },
 "nbformat": 4,
 "nbformat_minor": 2
}
