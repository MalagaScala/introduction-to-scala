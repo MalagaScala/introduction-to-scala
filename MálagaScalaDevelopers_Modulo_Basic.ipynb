{
 "cells": [
  {
   "cell_type": "markdown",
   "metadata": {},
   "source": [
    "Málaga Scala Developers \n",
    "Introduction to Scala"
   ]
  },
  {
   "cell_type": "markdown",
   "metadata": {},
   "source": [
    "¿How to find us?"
   ]
  },
  {
   "cell_type": "code",
   "execution_count": 7,
   "metadata": {},
   "outputs": [
    {
     "data": {
      "text/plain": [
       "defined \u001b[32mtrait\u001b[39m \u001b[36mMalagaScalaDevelopersSocialMedia\u001b[39m\n",
       "defined \u001b[32mtrait\u001b[39m \u001b[36mMalagaScalaDevelopersPublicResources\u001b[39m\n",
       "defined \u001b[32mobject\u001b[39m \u001b[36mTelegram\u001b[39m\n",
       "defined \u001b[32mobject\u001b[39m \u001b[36mMeetup\u001b[39m\n",
       "defined \u001b[32mobject\u001b[39m \u001b[36mTwitter\u001b[39m\n",
       "defined \u001b[32mobject\u001b[39m \u001b[36mGithub\u001b[39m\n",
       "\u001b[36myouChoice\u001b[39m: \u001b[32mwrapper\u001b[39m.\u001b[32mwrapper\u001b[39m.\u001b[32mMalagaScalaDevelopersSocialMedia\u001b[39m = Telegram\n",
       "\u001b[36mres6_7\u001b[39m: \u001b[32mString\u001b[39m = \u001b[32m\"https://t.me/malaga_scala\"\u001b[39m"
      ]
     },
     "execution_count": 7,
     "metadata": {},
     "output_type": "execute_result"
    }
   ],
   "source": [
    "trait MalagaScalaDevelopersSocialMedia\n",
    "\n",
    "case object Telegram extends MalagaScalaDevelopersSocialMedia\n",
    "case object Meetup   extends MalagaScalaDevelopersSocialMedia \n",
    "case object Twitter  extends MalagaScalaDevelopersSocialMedia\n",
    "case object Github   extends MalagaScalaDevelopersSocialMedia\n",
    "\n",
    "val youChoice : MalagaScalaDevelopersSocialMedia = Telegram\n",
    "youChoice match {\n",
    " case Twitter  => \"https://twitter.com/MalagaScala\" \n",
    " case Telegram => \"https://t.me/malaga_scala\"\n",
    " case Meetup   => \"https://meetup.com/Malaga-Scala\"\n",
    " case Github   => \"https://github.com/MalagaScala\"\n",
    " case _        => \"???\"\n",
    "}\n"
   ]
  },
  {
   "cell_type": "markdown",
   "metadata": {},
   "source": [
    "# Part A Syntax Basics"
   ]
  },
  {
   "cell_type": "markdown",
   "metadata": {},
   "source": [
    "\n",
    "0.0 :: val / var / assigments and multiple statemens in a single line with ;\n"
   ]
  },
  {
   "cell_type": "code",
   "execution_count": null,
   "metadata": {},
   "outputs": [],
   "source": [
    "{\n",
    "    // discussion about reassignment \n",
    "    val k = 1\n",
    "    // vs \n",
    "    var i =10\n",
    "    // TODO :: Discussion why we can not do it like that  \n",
    "    //k = 3 ; i =112\n",
    "}"
   ]
  },
  {
   "cell_type": "markdown",
   "metadata": {},
   "source": [
    " 0.1 :: String interpolation with ${}"
   ]
  },
  {
   "cell_type": "code",
   "execution_count": null,
   "metadata": {},
   "outputs": [],
   "source": [
    "val uno = 1\n",
    "class Uno(val number: Int)\n",
    "println(s\"$uno\")\n",
    "// for class\n",
    "val aOne = new Uno(1)\n",
    "println(s\"${aOne.number}\")"
   ]
  },
  {
   "cell_type": "markdown",
   "metadata": {},
   "source": [
    "0.2 :: Any method can be an operator too"
   ]
  },
  {
   "cell_type": "code",
   "execution_count": null,
   "metadata": {},
   "outputs": [],
   "source": [
    "val anArray = Array(\"o\",\"oo\",\"ooo\")\n",
    "// indexOf as a operator syntax\n",
    "anArray `indexOf` \"o\" \n",
    "// <=>\n",
    "anArray.indexOf(\"o\")"
   ]
  },
  {
   "cell_type": "markdown",
   "metadata": {},
   "source": [
    " 0.3 :: logic operation && (short circuit) vs & \n"
   ]
  },
  {
   "cell_type": "code",
   "execution_count": null,
   "metadata": {},
   "outputs": [],
   "source": [
    "def show(toShow: => String, toEvaluate: => Boolean ) : Boolean = {\n",
    "    println(toShow)\n",
    "    toEvaluate\n",
    "}\n",
    "val isThere   = (show(\"1==2\", 1==2) & show(\"2==2\", 2==2) ) \n",
    "val overThere = (show(\"1==2\", 1==2) && show(\"2==2\", 2==2) ) "
   ]
  },
  {
   "cell_type": "markdown",
   "metadata": {},
   "source": [
    " 0.4 :: Operator syntax vs method call 1.+(2)"
   ]
  },
  {
   "cell_type": "code",
   "execution_count": null,
   "metadata": {},
   "outputs": [],
   "source": [
    "val resultA = 1.+(2) // explain\n",
    "// <=>\n",
    "val resultB = 1 + 2\n"
   ]
  },
  {
   "cell_type": "markdown",
   "metadata": {},
   "source": [
    "0.5 :: Parameterless methods"
   ]
  },
  {
   "cell_type": "code",
   "execution_count": null,
   "metadata": {},
   "outputs": [],
   "source": [
    "def aParameterlessMethodAB  = {}\n",
    "// invocation \n",
    "aParameterlessMethodAB"
   ]
  },
  {
   "cell_type": "markdown",
   "metadata": {},
   "source": [
    "0.6 :: Function as a method syntax"
   ]
  },
  {
   "cell_type": "code",
   "execution_count": null,
   "metadata": {
    "scrolled": false
   },
   "outputs": [],
   "source": [
    "type Output = String\n",
    "def myMethod(input: String) : Output = return input // the return keyword is Optional!\n",
    "// transform as a functionl literally with the _ (underscore char)\n",
    "val aFunctionLiterally : String => Output = myMethod _"
   ]
  },
  {
   "cell_type": "markdown",
   "metadata": {
    "scrolled": false
   },
   "source": [
    "0.7 :: Producedure syntax"
   ]
  },
  {
   "cell_type": "code",
   "execution_count": null,
   "metadata": {},
   "outputs": [],
   "source": [
    "def myProcedure() = {\n",
    "    // the procedure body\n",
    "    println(\"A procedure is ivoking and producing a Side Effects\")\n",
    "}"
   ]
  },
  {
   "cell_type": "markdown",
   "metadata": {},
   "source": [
    "0.8 :: if as a expression - not a statemnet"
   ]
  },
  {
   "cell_type": "code",
   "execution_count": null,
   "metadata": {},
   "outputs": [],
   "source": [
    "val p = 4\n",
    "val s = if (10>p) 1 else 0"
   ]
  },
  {
   "cell_type": "markdown",
   "metadata": {},
   "source": [
    "* 0.9 :: while loop \n",
    "Discussion about Imperative style"
   ]
  },
  {
   "cell_type": "code",
   "execution_count": null,
   "metadata": {},
   "outputs": [],
   "source": [
    "var i = 0 \n",
    "val args = Array(\"l\",\"o\",\"m\",\"b\",\"r\",\"e\",\"s\")\n",
    "while( i< args.length){\n",
    "    println(args(i))\n",
    "    i += 1\n",
    "}"
   ]
  },
  {
   "cell_type": "markdown",
   "metadata": {},
   "source": [
    "* 1.o :: Simple FOR expression without yield"
   ]
  },
  {
   "cell_type": "code",
   "execution_count": null,
   "metadata": {},
   "outputs": [],
   "source": [
    "for(i <- 0 to 2) println(s\"${i}\") "
   ]
  },
  {
   "cell_type": "markdown",
   "metadata": {},
   "source": [
    "* 1.1 :: Simple FOR expression with yield"
   ]
  },
  {
   "cell_type": "code",
   "execution_count": null,
   "metadata": {},
   "outputs": [],
   "source": [
    "val r = for(i <- 10 to 0 by -1) yield i"
   ]
  },
  {
   "cell_type": "markdown",
   "metadata": {},
   "source": [
    "* 1.1 :: FOR expressions with a guard - differents versions"
   ]
  },
  {
   "cell_type": "code",
   "execution_count": null,
   "metadata": {},
   "outputs": [],
   "source": [
    "val r = for(i <- 10 to 0 by -1; if i == 5) yield i"
   ]
  },
  {
   "cell_type": "code",
   "execution_count": null,
   "metadata": {},
   "outputs": [],
   "source": [
    "val r = for(i <- 0 to 10; if i==2) yield i"
   ]
  },
  {
   "cell_type": "code",
   "execution_count": null,
   "metadata": {
    "scrolled": true
   },
   "outputs": [],
   "source": [
    "val r = for(i <- 0 to 3; j<- 1 to 2) yield i + j"
   ]
  },
  {
   "cell_type": "markdown",
   "metadata": {},
   "source": [
    "# Part B Types WIP"
   ]
  },
  {
   "cell_type": "markdown",
   "metadata": {},
   "source": [
    "* 0.0 :: Typles"
   ]
  },
  {
   "cell_type": "code",
   "execution_count": null,
   "metadata": {},
   "outputs": [],
   "source": [
    "val aTypleOfInts = (1,2)\n",
    "\n",
    "val (i1,i2) = aTypleOfInts\n",
    "\n",
    "// or \n",
    "aTypleOfInts._1\n",
    "aTypleOfInts._2"
   ]
  },
  {
   "cell_type": "markdown",
   "metadata": {},
   "source": []
  },
  {
   "cell_type": "code",
   "execution_count": null,
   "metadata": {},
   "outputs": [],
   "source": []
  },
  {
   "cell_type": "markdown",
   "metadata": {},
   "source": []
  },
  {
   "cell_type": "code",
   "execution_count": null,
   "metadata": {},
   "outputs": [],
   "source": []
  },
  {
   "cell_type": "markdown",
   "metadata": {},
   "source": []
  },
  {
   "cell_type": "code",
   "execution_count": null,
   "metadata": {},
   "outputs": [],
   "source": []
  },
  {
   "cell_type": "markdown",
   "metadata": {},
   "source": [
    "# Part B Functional WIP"
   ]
  }
 ],
 "metadata": {
  "kernelspec": {
   "display_name": "Scala",
   "language": "scala",
   "name": "scala"
  },
  "language_info": {
   "codemirror_mode": "text/x-scala",
   "file_extension": ".scala",
   "mimetype": "text/x-scala",
   "name": "scala212",
   "nbconvert_exporter": "script",
   "pygments_lexer": "scala",
   "version": "2.12.2"
  }
 },
 "nbformat": 4,
 "nbformat_minor": 2
}
